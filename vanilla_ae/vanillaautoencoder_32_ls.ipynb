{
 "cells": [
  {
   "cell_type": "code",
   "execution_count": 2,
   "metadata": {},
   "outputs": [],
   "source": [
    "import numpy as np\n",
    "import matplotlib.pyplot as plt\n",
    "from PIL import Image\n",
    "import pandas as pd"
   ]
  },
  {
   "cell_type": "code",
   "execution_count": 3,
   "metadata": {},
   "outputs": [],
   "source": [
    "catsd = '/home/stephenportillo/gen_model_hack/greycats_32/'\n",
    "N = 15747"
   ]
  },
  {
   "cell_type": "code",
   "execution_count": 4,
   "metadata": {},
   "outputs": [],
   "source": [
    "def load_image(d):\n",
    "    \n",
    "    img = Image.open(d)\n",
    "    img.load()\n",
    "    data = np.asarray(img, dtype='int32')\n",
    "    \n",
    "    return data"
   ]
  },
  {
   "cell_type": "code",
   "execution_count": 5,
   "metadata": {},
   "outputs": [],
   "source": [
    "catsdata = np.zeros((N, 32, 32))"
   ]
  },
  {
   "cell_type": "code",
   "execution_count": 6,
   "metadata": {},
   "outputs": [],
   "source": [
    "for i in range(N):\n",
    "    d = catsd + str(i+1) + '.jpg'\n",
    "    catsdata[i] = load_image(d)"
   ]
  },
  {
   "cell_type": "code",
   "execution_count": 7,
   "metadata": {},
   "outputs": [
    {
     "data": {
      "text/plain": [
       "255.0"
      ]
     },
     "execution_count": 7,
     "metadata": {},
     "output_type": "execute_result"
    }
   ],
   "source": [
    "catsdata.max()"
   ]
  },
  {
   "cell_type": "markdown",
   "metadata": {},
   "source": [
    "# Normalizing all images (0, 1)"
   ]
  },
  {
   "cell_type": "code",
   "execution_count": 8,
   "metadata": {},
   "outputs": [],
   "source": [
    "catsdata = catsdata / 255."
   ]
  },
  {
   "cell_type": "code",
   "execution_count": 9,
   "metadata": {},
   "outputs": [
    {
     "data": {
      "text/plain": [
       "<matplotlib.image.AxesImage at 0x7f05f23639d0>"
      ]
     },
     "execution_count": 9,
     "metadata": {},
     "output_type": "execute_result"
    },
    {
     "data": {
      "image/png": "[encoded data removed]",
      "text/plain": [
       "<Figure size 432x288 with 1 Axes>"
      ]
     },
     "metadata": {
      "needs_background": "light"
     },
     "output_type": "display_data"
    }
   ],
   "source": [
    "plt.imshow(catsdata[0], cmap='gray')"
   ]
  },
  {
   "cell_type": "code",
   "execution_count": 10,
   "metadata": {},
   "outputs": [],
   "source": [
    "mydata = catsdata"
   ]
  },
  {
   "cell_type": "code",
   "execution_count": 11,
   "metadata": {},
   "outputs": [],
   "source": [
    "from sklearn.model_selection import train_test_split"
   ]
  },
  {
   "cell_type": "code",
   "execution_count": 12,
   "metadata": {},
   "outputs": [],
   "source": [
    "X_train, X_test = train_test_split(mydata, train_size=0.7, shuffle=True, random_state=42)"
   ]
  },
  {
   "cell_type": "code",
   "execution_count": 13,
   "metadata": {},
   "outputs": [
    {
     "data": {
      "text/plain": [
       "(1.0, 1.0)"
      ]
     },
     "execution_count": 13,
     "metadata": {},
     "output_type": "execute_result"
    }
   ],
   "source": [
    "X_train.max(), X_test.max()"
   ]
  },
  {
   "cell_type": "code",
   "execution_count": 14,
   "metadata": {},
   "outputs": [],
   "source": [
    "# rescaling images\n",
    "# a, b = 0.0, 1.0 \n",
    "# X_train = (X_train - a) / (b-a)\n",
    "# X_test = (X_test - a) / (b-a)"
   ]
  },
  {
   "cell_type": "code",
   "execution_count": 15,
   "metadata": {},
   "outputs": [
    {
     "data": {
      "text/plain": [
       "((11022, 32, 32), (4725, 32, 32))"
      ]
     },
     "execution_count": 15,
     "metadata": {},
     "output_type": "execute_result"
    }
   ],
   "source": [
    "np.shape(X_train), np.shape(X_test)"
   ]
  },
  {
   "cell_type": "markdown",
   "metadata": {},
   "source": [
    "# Model building and training"
   ]
  },
  {
   "cell_type": "code",
   "execution_count": 16,
   "metadata": {},
   "outputs": [
    {
     "name": "stderr",
     "output_type": "stream",
     "text": [
      "/opt/conda/lib/python3.7/site-packages/tensorflow/python/framework/dtypes.py:516: FutureWarning: Passing (type, 1) or '1type' as a synonym of type is deprecated; in a future version of numpy, it will be understood as (type, (1,)) / '(1,)type'.\n",
      "  _np_qint8 = np.dtype([(\"qint8\", np.int8, 1)])\n",
      "/opt/conda/lib/python3.7/site-packages/tensorflow/python/framework/dtypes.py:517: FutureWarning: Passing (type, 1) or '1type' as a synonym of type is deprecated; in a future version of numpy, it will be understood as (type, (1,)) / '(1,)type'.\n",
      "  _np_quint8 = np.dtype([(\"quint8\", np.uint8, 1)])\n",
      "/opt/conda/lib/python3.7/site-packages/tensorflow/python/framework/dtypes.py:518: FutureWarning: Passing (type, 1) or '1type' as a synonym of type is deprecated; in a future version of numpy, it will be understood as (type, (1,)) / '(1,)type'.\n",
      "  _np_qint16 = np.dtype([(\"qint16\", np.int16, 1)])\n",
      "/opt/conda/lib/python3.7/site-packages/tensorflow/python/framework/dtypes.py:519: FutureWarning: Passing (type, 1) or '1type' as a synonym of type is deprecated; in a future version of numpy, it will be understood as (type, (1,)) / '(1,)type'.\n",
      "  _np_quint16 = np.dtype([(\"quint16\", np.uint16, 1)])\n",
      "/opt/conda/lib/python3.7/site-packages/tensorflow/python/framework/dtypes.py:520: FutureWarning: Passing (type, 1) or '1type' as a synonym of type is deprecated; in a future version of numpy, it will be understood as (type, (1,)) / '(1,)type'.\n",
      "  _np_qint32 = np.dtype([(\"qint32\", np.int32, 1)])\n",
      "/opt/conda/lib/python3.7/site-packages/tensorflow/python/framework/dtypes.py:525: FutureWarning: Passing (type, 1) or '1type' as a synonym of type is deprecated; in a future version of numpy, it will be understood as (type, (1,)) / '(1,)type'.\n",
      "  np_resource = np.dtype([(\"resource\", np.ubyte, 1)])\n",
      "/opt/conda/lib/python3.7/site-packages/tensorboard/compat/tensorflow_stub/dtypes.py:541: FutureWarning: Passing (type, 1) or '1type' as a synonym of type is deprecated; in a future version of numpy, it will be understood as (type, (1,)) / '(1,)type'.\n",
      "  _np_qint8 = np.dtype([(\"qint8\", np.int8, 1)])\n",
      "/opt/conda/lib/python3.7/site-packages/tensorboard/compat/tensorflow_stub/dtypes.py:542: FutureWarning: Passing (type, 1) or '1type' as a synonym of type is deprecated; in a future version of numpy, it will be understood as (type, (1,)) / '(1,)type'.\n",
      "  _np_quint8 = np.dtype([(\"quint8\", np.uint8, 1)])\n",
      "/opt/conda/lib/python3.7/site-packages/tensorboard/compat/tensorflow_stub/dtypes.py:543: FutureWarning: Passing (type, 1) or '1type' as a synonym of type is deprecated; in a future version of numpy, it will be understood as (type, (1,)) / '(1,)type'.\n",
      "  _np_qint16 = np.dtype([(\"qint16\", np.int16, 1)])\n",
      "/opt/conda/lib/python3.7/site-packages/tensorboard/compat/tensorflow_stub/dtypes.py:544: FutureWarning: Passing (type, 1) or '1type' as a synonym of type is deprecated; in a future version of numpy, it will be understood as (type, (1,)) / '(1,)type'.\n",
      "  _np_quint16 = np.dtype([(\"quint16\", np.uint16, 1)])\n",
      "/opt/conda/lib/python3.7/site-packages/tensorboard/compat/tensorflow_stub/dtypes.py:545: FutureWarning: Passing (type, 1) or '1type' as a synonym of type is deprecated; in a future version of numpy, it will be understood as (type, (1,)) / '(1,)type'.\n",
      "  _np_qint32 = np.dtype([(\"qint32\", np.int32, 1)])\n",
      "/opt/conda/lib/python3.7/site-packages/tensorboard/compat/tensorflow_stub/dtypes.py:550: FutureWarning: Passing (type, 1) or '1type' as a synonym of type is deprecated; in a future version of numpy, it will be understood as (type, (1,)) / '(1,)type'.\n",
      "  np_resource = np.dtype([(\"resource\", np.ubyte, 1)])\n"
     ]
    }
   ],
   "source": [
    "from tensorflow.keras.models import Sequential\n",
    "from tensorflow.keras.layers import Dense, Flatten, Reshape, Conv2D, Conv2DTranspose, Dropout\n",
    "from tensorflow.keras.optimizers import SGD"
   ]
  },
  {
   "cell_type": "code",
   "execution_count": 17,
   "metadata": {},
   "outputs": [],
   "source": [
    "from tensorflow.keras.callbacks import EarlyStopping, TensorBoard\n",
    "import tensorflow as tf\n",
    "import datetime, os"
   ]
  },
  {
   "cell_type": "code",
   "execution_count": 18,
   "metadata": {},
   "outputs": [],
   "source": [
    "# logsd = 'logs/fitting'\n",
    "\n",
    "# board = TensorBoard(log_dir=logsd,histogram_freq=1,\n",
    "#     write_graph=True,\n",
    "#     write_images=True,\n",
    "#     update_freq='epoch',\n",
    "#     profile_batch=2,\n",
    "#     embeddings_freq=1)"
   ]
  },
  {
   "cell_type": "code",
   "execution_count": 19,
   "metadata": {},
   "outputs": [
    {
     "name": "stdout",
     "output_type": "stream",
     "text": [
      "WARNING:tensorflow:From /opt/conda/lib/python3.7/site-packages/tensorflow/python/ops/init_ops.py:1251: calling VarianceScaling.__init__ (from tensorflow.python.ops.init_ops) with dtype is deprecated and will be removed in a future version.\n",
      "Instructions for updating:\n",
      "Call initializer instance with the dtype argument instead of passing it to the constructor\n"
     ]
    }
   ],
   "source": [
    "encoder = Sequential()\n",
    "encoder.add(Flatten(input_shape=[32,32])) \n",
    "encoder.add(Dense(400,activation=\"relu\"))\n",
    "encoder.add(Dense(200,activation=\"relu\"))\n",
    "encoder.add(Dense(100,activation=\"relu\"))\n",
    "encoder.add(Dense(32))"
   ]
  },
  {
   "cell_type": "code",
   "execution_count": 20,
   "metadata": {},
   "outputs": [
    {
     "name": "stdout",
     "output_type": "stream",
     "text": [
      "Model: \"sequential\"\n",
      "_________________________________________________________________\n",
      "Layer (type)                 Output Shape              Param #   \n",
      "=================================================================\n",
      "flatten (Flatten)            (None, 1024)              0         \n",
      "_________________________________________________________________\n",
      "dense (Dense)                (None, 400)               410000    \n",
      "_________________________________________________________________\n",
      "dense_1 (Dense)              (None, 200)               80200     \n",
      "_________________________________________________________________\n",
      "dense_2 (Dense)              (None, 100)               20100     \n",
      "_________________________________________________________________\n",
      "dense_3 (Dense)              (None, 32)                3232      \n",
      "=================================================================\n",
      "Total params: 513,532\n",
      "Trainable params: 513,532\n",
      "Non-trainable params: 0\n",
      "_________________________________________________________________\n"
     ]
    }
   ],
   "source": [
    "encoder.summary()"
   ]
  },
  {
   "cell_type": "code",
   "execution_count": 21,
   "metadata": {},
   "outputs": [
    {
     "data": {
      "text/plain": [
       "0.03125"
      ]
     },
     "execution_count": 21,
     "metadata": {},
     "output_type": "execute_result"
    }
   ],
   "source": [
    "32/(32*32)"
   ]
  },
  {
   "cell_type": "code",
   "execution_count": 22,
   "metadata": {},
   "outputs": [],
   "source": [
    "decoder = Sequential()\n",
    "decoder.add(Dense(100,input_shape=[32],activation='relu'))\n",
    "decoder.add(Dense(200,activation='relu'))\n",
    "decoder.add(Dense(400,activation='relu'))\n",
    "decoder.add(Dense(32 * 32, activation=\"sigmoid\"))\n",
    "decoder.add(Reshape([32, 32]))"
   ]
  },
  {
   "cell_type": "code",
   "execution_count": 23,
   "metadata": {},
   "outputs": [
    {
     "name": "stdout",
     "output_type": "stream",
     "text": [
      "Model: \"sequential_1\"\n",
      "_________________________________________________________________\n",
      "Layer (type)                 Output Shape              Param #   \n",
      "=================================================================\n",
      "dense_4 (Dense)              (None, 100)               3300      \n",
      "_________________________________________________________________\n",
      "dense_5 (Dense)              (None, 200)               20200     \n",
      "_________________________________________________________________\n",
      "dense_6 (Dense)              (None, 400)               80400     \n",
      "_________________________________________________________________\n",
      "dense_7 (Dense)              (None, 1024)              410624    \n",
      "_________________________________________________________________\n",
      "reshape (Reshape)            (None, 32, 32)            0         \n",
      "=================================================================\n",
      "Total params: 514,524\n",
      "Trainable params: 514,524\n",
      "Non-trainable params: 0\n",
      "_________________________________________________________________\n"
     ]
    }
   ],
   "source": [
    "decoder.summary()"
   ]
  },
  {
   "cell_type": "code",
   "execution_count": 24,
   "metadata": {},
   "outputs": [],
   "source": [
    "autoencoder = Sequential([encoder, decoder])"
   ]
  },
  {
   "cell_type": "code",
   "execution_count": 25,
   "metadata": {},
   "outputs": [
    {
     "name": "stdout",
     "output_type": "stream",
     "text": [
      "Model: \"sequential_2\"\n",
      "_________________________________________________________________\n",
      "Layer (type)                 Output Shape              Param #   \n",
      "=================================================================\n",
      "sequential (Sequential)      (None, 32)                513532    \n",
      "_________________________________________________________________\n",
      "sequential_1 (Sequential)    (None, 32, 32)            514524    \n",
      "=================================================================\n",
      "Total params: 1,028,056\n",
      "Trainable params: 1,028,056\n",
      "Non-trainable params: 0\n",
      "_________________________________________________________________\n"
     ]
    }
   ],
   "source": [
    "autoencoder.summary()"
   ]
  },
  {
   "cell_type": "code",
   "execution_count": 26,
   "metadata": {},
   "outputs": [],
   "source": [
    "autoencoder.compile(loss='mse', optimizer='adam', metrics=['accuracy'])"
   ]
  },
  {
   "cell_type": "code",
   "execution_count": 27,
   "metadata": {},
   "outputs": [],
   "source": [
    "early_stop = EarlyStopping(monitor='val_loss', patience=5)"
   ]
  },
  {
   "cell_type": "code",
   "execution_count": 28,
   "metadata": {},
   "outputs": [
    {
     "name": "stdout",
     "output_type": "stream",
     "text": [
      "Train on 11022 samples, validate on 4725 samples\n",
      "Epoch 1/100000\n",
      "11022/11022 [==============================] - 2s 209us/sample - loss: 0.0281 - acc: 0.1155 - val_loss: 0.0195 - val_acc: 0.1410\n",
      "Epoch 2/100000\n",
      "11022/11022 [==============================] - 2s 197us/sample - loss: 0.0183 - acc: 0.1433 - val_loss: 0.0170 - val_acc: 0.1543\n",
      "Epoch 3/100000\n",
      "11022/11022 [==============================] - 2s 186us/sample - loss: 0.0154 - acc: 0.1606 - val_loss: 0.0148 - val_acc: 0.1659\n",
      "Epoch 4/100000\n",
      "11022/11022 [==============================] - 2s 187us/sample - loss: 0.0141 - acc: 0.1719 - val_loss: 0.0140 - val_acc: 0.1805\n",
      "Epoch 5/100000\n",
      "11022/11022 [==============================] - 2s 196us/sample - loss: 0.0132 - acc: 0.1808 - val_loss: 0.0129 - val_acc: 0.1847\n",
      "Epoch 6/100000\n",
      "11022/11022 [==============================] - 2s 191us/sample - loss: 0.0126 - acc: 0.1855 - val_loss: 0.0127 - val_acc: 0.1878\n",
      "Epoch 7/100000\n",
      "11022/11022 [==============================] - 2s 197us/sample - loss: 0.0121 - acc: 0.1909 - val_loss: 0.0120 - val_acc: 0.1935\n",
      "Epoch 8/100000\n",
      "11022/11022 [==============================] - 2s 186us/sample - loss: 0.0118 - acc: 0.1952 - val_loss: 0.0119 - val_acc: 0.1963\n",
      "Epoch 9/100000\n",
      "11022/11022 [==============================] - 2s 187us/sample - loss: 0.0116 - acc: 0.1964 - val_loss: 0.0119 - val_acc: 0.1903\n",
      "Epoch 10/100000\n",
      "11022/11022 [==============================] - 2s 194us/sample - loss: 0.0112 - acc: 0.1997 - val_loss: 0.0114 - val_acc: 0.1909\n",
      "Epoch 11/100000\n",
      "11022/11022 [==============================] - 2s 190us/sample - loss: 0.0109 - acc: 0.2027 - val_loss: 0.0111 - val_acc: 0.2058\n",
      "Epoch 12/100000\n",
      "11022/11022 [==============================] - 2s 191us/sample - loss: 0.0105 - acc: 0.2081 - val_loss: 0.0105 - val_acc: 0.2092\n",
      "Epoch 13/100000\n",
      "11022/11022 [==============================] - 2s 186us/sample - loss: 0.0103 - acc: 0.2113 - val_loss: 0.0105 - val_acc: 0.2118\n",
      "Epoch 14/100000\n",
      "11022/11022 [==============================] - 2s 190us/sample - loss: 0.0101 - acc: 0.2141 - val_loss: 0.0106 - val_acc: 0.2069\n",
      "Epoch 15/100000\n",
      "11022/11022 [==============================] - 2s 197us/sample - loss: 0.0100 - acc: 0.2165 - val_loss: 0.0102 - val_acc: 0.2110\n",
      "Epoch 16/100000\n",
      "11022/11022 [==============================] - 2s 192us/sample - loss: 0.0097 - acc: 0.2196 - val_loss: 0.0101 - val_acc: 0.2070\n",
      "Epoch 17/100000\n",
      "11022/11022 [==============================] - 2s 192us/sample - loss: 0.0097 - acc: 0.2208 - val_loss: 0.0099 - val_acc: 0.2130\n",
      "Epoch 18/100000\n",
      "11022/11022 [==============================] - 2s 192us/sample - loss: 0.0095 - acc: 0.2225 - val_loss: 0.0099 - val_acc: 0.2175\n",
      "Epoch 19/100000\n",
      "11022/11022 [==============================] - 2s 192us/sample - loss: 0.0093 - acc: 0.2240 - val_loss: 0.0098 - val_acc: 0.2105\n",
      "Epoch 20/100000\n",
      "11022/11022 [==============================] - 2s 197us/sample - loss: 0.0093 - acc: 0.2257 - val_loss: 0.0098 - val_acc: 0.2218\n",
      "Epoch 21/100000\n",
      "11022/11022 [==============================] - 2s 191us/sample - loss: 0.0092 - acc: 0.2265 - val_loss: 0.0107 - val_acc: 0.2132\n",
      "Epoch 22/100000\n",
      "11022/11022 [==============================] - 2s 184us/sample - loss: 0.0091 - acc: 0.2297 - val_loss: 0.0096 - val_acc: 0.2224\n",
      "Epoch 23/100000\n",
      "11022/11022 [==============================] - 2s 196us/sample - loss: 0.0090 - acc: 0.2312 - val_loss: 0.0096 - val_acc: 0.2199\n",
      "Epoch 24/100000\n",
      "11022/11022 [==============================] - 2s 189us/sample - loss: 0.0089 - acc: 0.2326 - val_loss: 0.0095 - val_acc: 0.2275\n",
      "Epoch 25/100000\n",
      "11022/11022 [==============================] - 2s 196us/sample - loss: 0.0087 - acc: 0.2347 - val_loss: 0.0093 - val_acc: 0.2230\n",
      "Epoch 26/100000\n",
      "11022/11022 [==============================] - 2s 186us/sample - loss: 0.0087 - acc: 0.2363 - val_loss: 0.0093 - val_acc: 0.2195\n",
      "Epoch 27/100000\n",
      "11022/11022 [==============================] - 2s 187us/sample - loss: 0.0086 - acc: 0.2374 - val_loss: 0.0093 - val_acc: 0.2277\n",
      "Epoch 28/100000\n",
      "11022/11022 [==============================] - 2s 197us/sample - loss: 0.0085 - acc: 0.2391 - val_loss: 0.0092 - val_acc: 0.2248\n",
      "Epoch 29/100000\n",
      "11022/11022 [==============================] - 2s 188us/sample - loss: 0.0084 - acc: 0.2402 - val_loss: 0.0090 - val_acc: 0.2276\n",
      "Epoch 30/100000\n",
      "11022/11022 [==============================] - 2s 189us/sample - loss: 0.0084 - acc: 0.2411 - val_loss: 0.0093 - val_acc: 0.2327\n",
      "Epoch 31/100000\n",
      "11022/11022 [==============================] - 2s 193us/sample - loss: 0.0083 - acc: 0.2419 - val_loss: 0.0091 - val_acc: 0.2258\n",
      "Epoch 32/100000\n",
      "11022/11022 [==============================] - 2s 186us/sample - loss: 0.0082 - acc: 0.2428 - val_loss: 0.0090 - val_acc: 0.2327\n",
      "Epoch 33/100000\n",
      "11022/11022 [==============================] - 2s 196us/sample - loss: 0.0082 - acc: 0.2441 - val_loss: 0.0089 - val_acc: 0.2278\n",
      "Epoch 34/100000\n",
      "11022/11022 [==============================] - 2s 186us/sample - loss: 0.0081 - acc: 0.2436 - val_loss: 0.0089 - val_acc: 0.2311\n",
      "Epoch 35/100000\n",
      "11022/11022 [==============================] - 2s 190us/sample - loss: 0.0081 - acc: 0.2458 - val_loss: 0.0088 - val_acc: 0.2288\n",
      "Epoch 36/100000\n",
      "11022/11022 [==============================] - 2s 197us/sample - loss: 0.0080 - acc: 0.2473 - val_loss: 0.0089 - val_acc: 0.2253\n",
      "Epoch 37/100000\n",
      "11022/11022 [==============================] - 2s 187us/sample - loss: 0.0080 - acc: 0.2472 - val_loss: 0.0088 - val_acc: 0.2349\n",
      "Epoch 38/100000\n",
      "11022/11022 [==============================] - 2s 195us/sample - loss: 0.0080 - acc: 0.2471 - val_loss: 0.0090 - val_acc: 0.2298\n",
      "Epoch 39/100000\n",
      "11022/11022 [==============================] - 2s 189us/sample - loss: 0.0079 - acc: 0.2482 - val_loss: 0.0087 - val_acc: 0.2332\n",
      "Epoch 40/100000\n",
      "11022/11022 [==============================] - 2s 188us/sample - loss: 0.0078 - acc: 0.2483 - val_loss: 0.0088 - val_acc: 0.2310\n",
      "Epoch 41/100000\n",
      "11022/11022 [==============================] - 2s 194us/sample - loss: 0.0078 - acc: 0.2486 - val_loss: 0.0088 - val_acc: 0.2334\n",
      "Epoch 42/100000\n",
      "11022/11022 [==============================] - 2s 187us/sample - loss: 0.0078 - acc: 0.2498 - val_loss: 0.0090 - val_acc: 0.2325\n",
      "Epoch 43/100000\n",
      "11022/11022 [==============================] - 2s 189us/sample - loss: 0.0077 - acc: 0.2514 - val_loss: 0.0087 - val_acc: 0.2329\n",
      "Epoch 44/100000\n",
      "11022/11022 [==============================] - 2s 198us/sample - loss: 0.0077 - acc: 0.2517 - val_loss: 0.0086 - val_acc: 0.2338\n",
      "Epoch 45/100000\n",
      "11022/11022 [==============================] - 2s 187us/sample - loss: 0.0076 - acc: 0.2527 - val_loss: 0.0087 - val_acc: 0.2383\n",
      "Epoch 46/100000\n",
      "11022/11022 [==============================] - 2s 194us/sample - loss: 0.0076 - acc: 0.2528 - val_loss: 0.0088 - val_acc: 0.2432\n",
      "Epoch 47/100000\n",
      "11022/11022 [==============================] - 2s 189us/sample - loss: 0.0075 - acc: 0.2542 - val_loss: 0.0085 - val_acc: 0.2419\n",
      "Epoch 48/100000\n",
      "11022/11022 [==============================] - 2s 187us/sample - loss: 0.0075 - acc: 0.2540 - val_loss: 0.0085 - val_acc: 0.2425\n",
      "Epoch 49/100000\n",
      "11022/11022 [==============================] - 2s 195us/sample - loss: 0.0075 - acc: 0.2549 - val_loss: 0.0086 - val_acc: 0.2405\n",
      "Epoch 50/100000\n",
      "11022/11022 [==============================] - 2s 188us/sample - loss: 0.0074 - acc: 0.2550 - val_loss: 0.0088 - val_acc: 0.2399\n",
      "Epoch 51/100000\n",
      "11022/11022 [==============================] - 2s 189us/sample - loss: 0.0074 - acc: 0.2560 - val_loss: 0.0085 - val_acc: 0.2378\n",
      "Epoch 52/100000\n",
      "11022/11022 [==============================] - 2s 192us/sample - loss: 0.0074 - acc: 0.2563 - val_loss: 0.0084 - val_acc: 0.2355\n",
      "Epoch 53/100000\n",
      "11022/11022 [==============================] - 2s 186us/sample - loss: 0.0073 - acc: 0.2571 - val_loss: 0.0084 - val_acc: 0.2408\n",
      "Epoch 54/100000\n",
      "11022/11022 [==============================] - 2s 199us/sample - loss: 0.0073 - acc: 0.2582 - val_loss: 0.0084 - val_acc: 0.2417\n",
      "Epoch 55/100000\n",
      "11022/11022 [==============================] - 2s 187us/sample - loss: 0.0073 - acc: 0.2568 - val_loss: 0.0084 - val_acc: 0.2363\n",
      "Epoch 56/100000\n",
      "11022/11022 [==============================] - 2s 186us/sample - loss: 0.0072 - acc: 0.2584 - val_loss: 0.0083 - val_acc: 0.2374\n",
      "Epoch 57/100000\n",
      "11022/11022 [==============================] - 2s 195us/sample - loss: 0.0072 - acc: 0.2593 - val_loss: 0.0085 - val_acc: 0.2440\n",
      "Epoch 58/100000\n",
      "11022/11022 [==============================] - 2s 187us/sample - loss: 0.0072 - acc: 0.2590 - val_loss: 0.0086 - val_acc: 0.2421\n",
      "Epoch 59/100000\n",
      "11022/11022 [==============================] - 2s 197us/sample - loss: 0.0072 - acc: 0.2600 - val_loss: 0.0083 - val_acc: 0.2385\n",
      "Epoch 60/100000\n",
      "11022/11022 [==============================] - 2s 187us/sample - loss: 0.0072 - acc: 0.2603 - val_loss: 0.0085 - val_acc: 0.2444\n",
      "Epoch 61/100000\n",
      "11022/11022 [==============================] - 2s 187us/sample - loss: 0.0072 - acc: 0.2601 - val_loss: 0.0083 - val_acc: 0.2381\n",
      "Epoch 62/100000\n",
      "11022/11022 [==============================] - 2s 197us/sample - loss: 0.0071 - acc: 0.2614 - val_loss: 0.0082 - val_acc: 0.2386\n",
      "Epoch 63/100000\n",
      "11022/11022 [==============================] - 2s 190us/sample - loss: 0.0071 - acc: 0.2620 - val_loss: 0.0083 - val_acc: 0.2424\n",
      "Epoch 64/100000\n",
      "11022/11022 [==============================] - 2s 193us/sample - loss: 0.0071 - acc: 0.2605 - val_loss: 0.0085 - val_acc: 0.2399\n",
      "Epoch 65/100000\n",
      "11022/11022 [==============================] - 2s 192us/sample - loss: 0.0070 - acc: 0.2615 - val_loss: 0.0081 - val_acc: 0.2436\n",
      "Epoch 66/100000\n",
      "11022/11022 [==============================] - 2s 185us/sample - loss: 0.0070 - acc: 0.2633 - val_loss: 0.0083 - val_acc: 0.2380\n",
      "Epoch 67/100000\n",
      "11022/11022 [==============================] - 2s 196us/sample - loss: 0.0070 - acc: 0.2631 - val_loss: 0.0082 - val_acc: 0.2384\n",
      "Epoch 68/100000\n",
      "11022/11022 [==============================] - 2s 191us/sample - loss: 0.0070 - acc: 0.2624 - val_loss: 0.0083 - val_acc: 0.2413\n",
      "Epoch 69/100000\n",
      "11022/11022 [==============================] - 2s 187us/sample - loss: 0.0070 - acc: 0.2642 - val_loss: 0.0082 - val_acc: 0.2400\n",
      "Epoch 70/100000\n",
      "11022/11022 [==============================] - 2s 193us/sample - loss: 0.0070 - acc: 0.2643 - val_loss: 0.0082 - val_acc: 0.2443\n"
     ]
    },
    {
     "data": {
      "text/plain": [
       "<tensorflow.python.keras.callbacks.History at 0x7f05d8a56990>"
      ]
     },
     "execution_count": 28,
     "metadata": {},
     "output_type": "execute_result"
    }
   ],
   "source": [
    "autoencoder.fit(X_train, X_train, epochs=100000, validation_data=[X_test, X_test], callbacks=[early_stop])"
   ]
  },
  {
   "cell_type": "code",
   "execution_count": 29,
   "metadata": {},
   "outputs": [],
   "source": [
    "# %tensorboard --logdir logs"
   ]
  },
  {
   "cell_type": "markdown",
   "metadata": {},
   "source": [
    "# Evaluating model"
   ]
  },
  {
   "cell_type": "code",
   "execution_count": 30,
   "metadata": {},
   "outputs": [],
   "source": [
    "losses = pd.DataFrame(autoencoder.history.history)"
   ]
  },
  {
   "cell_type": "code",
   "execution_count": 31,
   "metadata": {},
   "outputs": [
    {
     "data": {
      "text/plain": [
       "Index(['loss', 'acc', 'val_loss', 'val_acc'], dtype='object')"
      ]
     },
     "execution_count": 31,
     "metadata": {},
     "output_type": "execute_result"
    }
   ],
   "source": [
    "losses.columns"
   ]
  },
  {
   "cell_type": "code",
   "execution_count": 32,
   "metadata": {},
   "outputs": [
    {
     "data": {
      "text/plain": [
       "<matplotlib.axes._subplots.AxesSubplot at 0x7f05b02b46d0>"
      ]
     },
     "execution_count": 32,
     "metadata": {},
     "output_type": "execute_result"
    },
    {
     "data": {
      "image/png": "[encoded data removed]",
      "text/plain": [
       "<Figure size 432x288 with 1 Axes>"
      ]
     },
     "metadata": {
      "needs_background": "light"
     },
     "output_type": "display_data"
    }
   ],
   "source": [
    "losses[['loss','val_loss']].plot()"
   ]
  },
  {
   "cell_type": "code",
   "execution_count": 33,
   "metadata": {},
   "outputs": [
    {
     "name": "stdout",
     "output_type": "stream",
     "text": [
      "4725/4725 [==============================] - 0s 51us/sample - loss: 0.0082 - acc: 0.2443\n"
     ]
    },
    {
     "data": {
      "text/plain": [
       "([0.00821110401184313, 0.24433202], ['loss', 'acc'])"
      ]
     },
     "execution_count": 33,
     "metadata": {},
     "output_type": "execute_result"
    }
   ],
   "source": [
    "autoencoder.evaluate(X_test, X_test), autoencoder.metrics_names"
   ]
  },
  {
   "cell_type": "code",
   "execution_count": 71,
   "metadata": {},
   "outputs": [],
   "source": [
    "passed_images = autoencoder.predict(X_test)"
   ]
  },
  {
   "cell_type": "code",
   "execution_count": 35,
   "metadata": {},
   "outputs": [
    {
     "data": {
      "text/plain": [
       "(4725, 32, 32)"
      ]
     },
     "execution_count": 35,
     "metadata": {},
     "output_type": "execute_result"
    }
   ],
   "source": [
    "np.shape(passed_images)"
   ]
  },
  {
   "cell_type": "code",
   "execution_count": 123,
   "metadata": {},
   "outputs": [],
   "source": [
    "from random import randint\n",
    "\n",
    "x = [randint(0, np.shape(passed_images)[0]) for p in range(0, 4)]"
   ]
  },
  {
   "cell_type": "code",
   "execution_count": 124,
   "metadata": {},
   "outputs": [
    {
     "name": "stdout",
     "output_type": "stream",
     "text": [
      "[2680, 1667, 3926, 1129]\n"
     ]
    }
   ],
   "source": [
    "print(x)"
   ]
  },
  {
   "cell_type": "code",
   "execution_count": 125,
   "metadata": {},
   "outputs": [],
   "source": [
    "# x = [1270, 4621, 4490, 1683]"
   ]
  },
  {
   "cell_type": "code",
   "execution_count": 126,
   "metadata": {},
   "outputs": [
    {
     "data": {
      "image/png": "[encoded data removed]",
      "text/plain": [
       "<Figure size 288x288 with 8 Axes>"
      ]
     },
     "metadata": {
      "needs_background": "light"
     },
     "output_type": "display_data"
    }
   ],
   "source": [
    "import matplotlib.pyplot as plt\n",
    "from mpl_toolkits.axes_grid1 import ImageGrid\n",
    "import numpy as np\n",
    "\n",
    "im1 = passed_images[x[0]]\n",
    "im2 = passed_images[x[1]]\n",
    "im3 = passed_images[x[2]]\n",
    "im4 = passed_images[x[3]]\n",
    "\n",
    "fig = plt.figure(figsize=(4., 4.))\n",
    "grid = ImageGrid(fig, 111,  # similar to subplot(111)\n",
    "                 nrows_ncols=(2, 2),  # creates 2x2 grid of axes\n",
    "                 axes_pad=0.1,  # pad between axes in inch.\n",
    "                 )\n",
    "\n",
    "for ax, im in zip(grid, [im1, im2, im3, im4]):\n",
    "    # Iterating over the grid returns the Axes.\n",
    "    ax.imshow(im, cmap='gray')\n",
    "    ax.set_xticks([])\n",
    "    ax.set_yticks([])\n",
    "    \n",
    "plt.subplots_adjust(wspace=0, hspace=0)\n",
    "plt.show()"
   ]
  },
  {
   "cell_type": "code",
   "execution_count": 106,
   "metadata": {},
   "outputs": [
    {
     "name": "stdout",
     "output_type": "stream",
     "text": [
      "1683\n"
     ]
    },
    {
     "data": {
      "image/png": "[encoded data removed]",
      "text/plain": [
       "<Figure size 432x288 with 2 Axes>"
      ]
     },
     "metadata": {
      "needs_background": "light"
     },
     "output_type": "display_data"
    }
   ],
   "source": [
    "import random\n",
    "n = random.randint(0, 4724)\n",
    "print(n)\n",
    "\n",
    "f = plt.figure()\n",
    "f.add_subplot(1,2, 2)\n",
    "plt.imshow(passed_images[n], cmap='gray')\n",
    "plt.title('AE')\n",
    "\n",
    "f.add_subplot(1,2, 1)\n",
    "plt.imshow(X_test[n], cmap='gray')\n",
    "plt.title('Test image')\n",
    "\n",
    "plt.suptitle('Using Dense layers')\n",
    "plt.show(block=True)\n"
   ]
  },
  {
   "cell_type": "markdown",
   "metadata": {},
   "source": [
    "## Reconstruction metrics"
   ]
  },
  {
   "cell_type": "code",
   "execution_count": 37,
   "metadata": {},
   "outputs": [],
   "source": [
    "def fnmse(yHat, y):\n",
    "    return np.mean((yHat-y)**2)\n",
    "\n",
    "def bCrossEntropy(yHat, y):\n",
    "    return -np.mean(y*np.log(yHat) + (1-y)*np.log(1-yHat))\n",
    "\n",
    "def cosinedist(yHat, y):\n",
    "    \n",
    "    u = yHat.flatten()\n",
    "    v = y.flatten() \n",
    "    normu = np.sqrt(np.sum(u**2))\n",
    "    normv = np.sqrt(np.sum(v**2)) \n",
    "    cosine_dist = np.dot(u, v) / (normu*normv)\n",
    "    \n",
    "    return 1 - cosine_dist"
   ]
  },
  {
   "cell_type": "code",
   "execution_count": 38,
   "metadata": {},
   "outputs": [
    {
     "name": "stdout",
     "output_type": "stream",
     "text": [
      "Mean square error 0.008211103929174198\n",
      "Binary Crossentropy 0.5707577535797587\n",
      "Cosine distance 0.0213702883980384\n"
     ]
    }
   ],
   "source": [
    "mse, bce, cd = 0, 0, 0\n",
    "n_test = np.shape(X_test)[0]\n",
    "\n",
    "for i in range(n_test):\n",
    "    \n",
    "    yHat, y = passed_images[i], X_test[i]\n",
    "    \n",
    "    mse += fnmse(yHat, y)\n",
    "    bce += bCrossEntropy(yHat, y)\n",
    "    cd += cosinedist(yHat, y)\n",
    "    \n",
    "print(\"Mean square error\", mse/n_test)\n",
    "print(\"Binary Crossentropy\", bce/n_test)\n",
    "print(\"Cosine distance\", cd/n_test)"
   ]
  },
  {
   "cell_type": "markdown",
   "metadata": {},
   "source": [
    "# UMAP embedding in 2d"
   ]
  },
  {
   "cell_type": "code",
   "execution_count": 39,
   "metadata": {},
   "outputs": [],
   "source": [
    "latent_space = encoder.predict(X_test)"
   ]
  },
  {
   "cell_type": "code",
   "execution_count": 40,
   "metadata": {},
   "outputs": [
    {
     "name": "stdout",
     "output_type": "stream",
     "text": [
      "(4725, 32)\n"
     ]
    }
   ],
   "source": [
    "print(np.shape(latent_space))"
   ]
  },
  {
   "cell_type": "code",
   "execution_count": 64,
   "metadata": {},
   "outputs": [
    {
     "name": "stdout",
     "output_type": "stream",
     "text": [
      "(4725, 2)\n"
     ]
    },
    {
     "data": {
      "text/plain": [
       "Text(0.5, 1.0, 'Vanilla autoencoder; latent dim 32; lf mse')"
      ]
     },
     "execution_count": 64,
     "metadata": {},
     "output_type": "execute_result"
    },
    {
     "data": {
      "image/png": "[encoded data removed]",
      "text/plain": [
       "<Figure size 432x288 with 1 Axes>"
      ]
     },
     "metadata": {
      "needs_background": "light"
     },
     "output_type": "display_data"
    }
   ],
   "source": [
    "# !pip install umap-learn\n",
    "\n",
    "import umap\n",
    "\n",
    "# create the embedding of the latent space\n",
    "embedding = umap.UMAP(n_neighbors=100, min_dist=0.5).fit_transform(latent_space)\n",
    "print(np.shape(embedding))\n",
    "\n",
    "# plot the embedding\n",
    "plt.scatter(embedding[:,0], embedding[:,1], alpha=0.2)\n",
    "plt.title('Vanilla autoencoder; latent dim 32; lf mse')"
   ]
  },
  {
   "cell_type": "markdown",
   "metadata": {},
   "source": [
    "# Sampling from latent space"
   ]
  },
  {
   "cell_type": "code",
   "execution_count": 42,
   "metadata": {},
   "outputs": [
    {
     "name": "stdout",
     "output_type": "stream",
     "text": [
      "(32, 4725) (32, 32)\n"
     ]
    }
   ],
   "source": [
    "m = np.transpose(latent_space)\n",
    "print(np.shape(m), np.cov(m).shape)"
   ]
  },
  {
   "cell_type": "code",
   "execution_count": 43,
   "metadata": {},
   "outputs": [
    {
     "data": {
      "text/plain": [
       "(32,)"
      ]
     },
     "execution_count": 43,
     "metadata": {},
     "output_type": "execute_result"
    }
   ],
   "source": [
    "np.mean(m, axis=1).shape"
   ]
  },
  {
   "cell_type": "code",
   "execution_count": 44,
   "metadata": {},
   "outputs": [
    {
     "name": "stdout",
     "output_type": "stream",
     "text": [
      "(100, 32)\n"
     ]
    }
   ],
   "source": [
    "samples = np.random.multivariate_normal(np.mean(m, axis=1), np.cov(m), size=100)\n",
    "print(samples.shape)"
   ]
  },
  {
   "cell_type": "code",
   "execution_count": 59,
   "metadata": {},
   "outputs": [],
   "source": [
    "randomsamples = decoder.predict(samples)"
   ]
  },
  {
   "cell_type": "code",
   "execution_count": 60,
   "metadata": {},
   "outputs": [
    {
     "data": {
      "text/plain": [
       "<matplotlib.image.AxesImage at 0x7f0586e0dc90>"
      ]
     },
     "execution_count": 60,
     "metadata": {},
     "output_type": "execute_result"
    },
    {
     "data": {
      "image/png": "[encoded data removed]",
      "text/plain": [
       "<Figure size 432x288 with 1 Axes>"
      ]
     },
     "metadata": {
      "needs_background": "light"
     },
     "output_type": "display_data"
    }
   ],
   "source": [
    "plt.imshow(randomsamples[1], cmap='gray')"
   ]
  },
  {
   "cell_type": "code",
   "execution_count": 61,
   "metadata": {},
   "outputs": [
    {
     "name": "stdout",
     "output_type": "stream",
     "text": [
      "(100, 32, 32)\n"
     ]
    }
   ],
   "source": [
    "print(np.shape(randomsamples))"
   ]
  },
  {
   "cell_type": "markdown",
   "metadata": {},
   "source": [
    "# Saving random samples "
   ]
  },
  {
   "cell_type": "code",
   "execution_count": 63,
   "metadata": {},
   "outputs": [],
   "source": [
    "for i in range(np.shape(randomsamples)[0]):\n",
    "    name = 'fairsamples_ae_ls32/' + str(i) + '.jpeg'\n",
    "    plt.imsave(name, randomsamples[i], cmap='gray')"
   ]
  },
  {
   "cell_type": "code",
   "execution_count": 108,
   "metadata": {},
   "outputs": [],
   "source": [
    "def plot_cat_wall(fake_imgs, cmap='Greys', epoch='real'):\n",
    "    fig, axis = plt.subplots(nrows=2, ncols=2, figsize=(2, 2))\n",
    "    \n",
    "    for i, ax in enumerate(axis.ravel()):\n",
    "        ax.imshow(fake_imgs[i, :, :],\n",
    "                  cmap=cmap, origin='upper', \n",
    "                  aspect='equal')\n",
    "        \n",
    "    for ax in axis.ravel():\n",
    "        ax.axes.get_xaxis().set_visible(False)\n",
    "        ax.axes.get_yaxis().set_visible(False)\n",
    "        \n",
    "    fig.subplots_adjust(wspace=0, hspace=0)\n",
    "#     fig.suptitle('Gen Cats Vanilla autoencoder latent space 2d', fontsize=20, y=.95)\n",
    "#     plt.savefig('/home/lavanyanemani96/ae_ls2d.jpg')\n",
    "    plt.show()"
   ]
  },
  {
   "cell_type": "code",
   "execution_count": null,
   "metadata": {},
   "outputs": [],
   "source": []
  }
 ],
 "metadata": {
  "kernelspec": {
   "display_name": "Python 3",
   "language": "python",
   "name": "python3"
  },
  "language_info": {
   "codemirror_mode": {
    "name": "ipython",
    "version": 3
   },
   "file_extension": ".py",
   "mimetype": "text/x-python",
   "name": "python",
   "nbconvert_exporter": "python",
   "pygments_lexer": "ipython3",
   "version": "3.7.8"
  }
 },
 "nbformat": 4,
 "nbformat_minor": 4
}
